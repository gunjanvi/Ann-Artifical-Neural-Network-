{
 "cells": [
  {
   "cell_type": "markdown",
   "metadata": {},
   "source": [
    "# <center>Back Orders Classification</center>\n",
    "\n",
    "___\n",
    "\n",
    "## Problem Statement\n",
    "\n",
    "Identify products at risk of backorder before the event occurs so that business has time to react."
   ]
  },
  {
   "cell_type": "markdown",
   "metadata": {},
   "source": [
    "## What is a Backorder?\n",
    "Backorders are products that are temporarily out of stock, but a customer is permitted to place an order against future inventory. A backorder generally indicates that customer demand for a product or service exceeds a company’s capacity to supply it. Back orders are both good and bad. Strong demand can drive back orders, but so can suboptimal planning."
   ]
  },
  {
   "cell_type": "markdown",
   "metadata": {},
   "source": [
    "## Data Description\n",
    "\n",
    "Data file contains the historical data for the 8 weeks prior to the week we are trying to predict. The data was taken as weekly snapshots at the start of each week. Columns are defined as follows:\n",
    "\n",
    "    sku - Random ID for the product\n",
    "\n",
    "    national_inv - Current inventory level for the part\n",
    "\n",
    "    lead_time - Transit time for product (if available)\n",
    "\n",
    "    in_transit_qty - Amount of product in transit from source\n",
    "\n",
    "    forecast_3_month - Forecast sales for the next 3 months\n",
    "\n",
    "    forecast_6_month - Forecast sales for the next 6 months\n",
    "\n",
    "    forecast_9_month - Forecast sales for the next 9 months\n",
    "\n",
    "    sales_1_month - Sales quantity for the prior 1 month time period\n",
    "\n",
    "    sales_3_month - Sales quantity for the prior 3 month time period\n",
    "\n",
    "    sales_6_month - Sales quantity for the prior 6 month time period\n",
    "\n",
    "    sales_9_month - Sales quantity for the prior 9 month time period\n",
    "\n",
    "    min_bank - Minimum recommend amount to stock\n",
    "\n",
    "    potential_issue - Source issue for part identified\n",
    "\n",
    "    pieces_past_due - Parts overdue from source\n",
    "\n",
    "    perf_6_month_avg - Source performance for prior 6 month period\n",
    "\n",
    "    perf_12_month_avg - Source performance for prior 12 month period\n",
    "\n",
    "    local_bo_qty - Amount of stock orders overdue\n",
    "\n",
    "    deck_risk - Part risk flag\n",
    "\n",
    "    oe_constraint - Part risk flag\n",
    "\n",
    "    ppap_risk - Part risk flag\n",
    "\n",
    "    stop_auto_buy - Part risk flag\n",
    "\n",
    "    rev_stop - Part risk flag\n",
    "\n",
    "    went_on_backorder - Product actually went on backorder. This is the target value."
   ]
  },
  {
   "cell_type": "markdown",
   "metadata": {},
   "source": [
    "#### Identify Right Error Metrics\n",
    "\n",
    "    Based on the businees, identify right error metrics."
   ]
  },
  {
   "cell_type": "markdown",
   "metadata": {},
   "source": [
    "$$Recall = \\frac {tp}{tp+fn}$$"
   ]
  },
  {
   "cell_type": "markdown",
   "metadata": {},
   "source": [
    "## Data Pre-processing\n",
    "\n",
    "### Loading the required libraries"
   ]
  },
  {
   "cell_type": "code",
   "execution_count": 1,
   "metadata": {},
   "outputs": [
    {
     "name": "stderr",
     "output_type": "stream",
     "text": [
      "Using TensorFlow backend.\n"
     ]
    }
   ],
   "source": [
    "import pandas as pd\n",
    "import numpy as np\n",
    "\n",
    "\n",
    "# sklearn\n",
    "from sklearn.model_selection import train_test_split\n",
    "from sklearn.metrics import confusion_matrix, recall_score, precision_score, accuracy_score\n",
    "\n",
    "# keras\n",
    "from keras.models import Sequential\n",
    "from keras.layers import Dense, Dropout, BatchNormalization\n",
    "from keras import optimizers\n",
    "from keras.regularizers import l2\n",
    "\n",
    "# matplotlib\n",
    "import matplotlib.pyplot as plt\n",
    "%matplotlib inline  \n",
    "\n",
    "import warnings\n",
    "warnings.filterwarnings(\"ignore\", category=DeprecationWarning) "
   ]
  },
  {
   "cell_type": "markdown",
   "metadata": {},
   "source": [
    "### Loading the data\n",
    "\n",
    "Get current working directory"
   ]
  },
  {
   "cell_type": "code",
   "execution_count": 2,
   "metadata": {},
   "outputs": [
    {
     "data": {
      "text/plain": [
       "'C:\\\\Users\\\\Gunjan\\\\Downloads\\\\Ann-Artifical-Neural-Network--master\\\\Ann-Artifical-Neural-Network--master'"
      ]
     },
     "execution_count": 2,
     "metadata": {},
     "output_type": "execute_result"
    }
   ],
   "source": [
    "import os\n",
    "os.getcwd()"
   ]
  },
  {
   "cell_type": "code",
   "execution_count": 3,
   "metadata": {},
   "outputs": [],
   "source": [
    "# Setting working directory, if required\n",
    "# os.chdir('path to file)"
   ]
  },
  {
   "cell_type": "code",
   "execution_count": 4,
   "metadata": {
    "scrolled": true
   },
   "outputs": [],
   "source": [
    "data = pd.read_csv(\"BackOrders.csv\",header=0)"
   ]
  },
  {
   "cell_type": "markdown",
   "metadata": {},
   "source": [
    "### Understand the Data"
   ]
  },
  {
   "cell_type": "markdown",
   "metadata": {},
   "source": [
    "See the number row and columns"
   ]
  },
  {
   "cell_type": "code",
   "execution_count": 5,
   "metadata": {},
   "outputs": [
    {
     "data": {
      "text/plain": [
       "(10000, 23)"
      ]
     },
     "execution_count": 5,
     "metadata": {},
     "output_type": "execute_result"
    }
   ],
   "source": [
    "data.shape"
   ]
  },
  {
   "cell_type": "markdown",
   "metadata": {},
   "source": [
    "Display the columns"
   ]
  },
  {
   "cell_type": "code",
   "execution_count": 6,
   "metadata": {},
   "outputs": [
    {
     "data": {
      "text/plain": [
       "Index(['sku', 'national_inv', 'lead_time', 'in_transit_qty',\n",
       "       'forecast_3_month', 'forecast_6_month', 'forecast_9_month',\n",
       "       'sales_1_month', 'sales_3_month', 'sales_6_month', 'sales_9_month',\n",
       "       'min_bank', 'potential_issue', 'pieces_past_due', 'perf_6_month_avg',\n",
       "       'perf_12_month_avg', 'local_bo_qty', 'deck_risk', 'oe_constraint',\n",
       "       'ppap_risk', 'stop_auto_buy', 'rev_stop', 'went_on_backorder'],\n",
       "      dtype='object')"
      ]
     },
     "execution_count": 6,
     "metadata": {},
     "output_type": "execute_result"
    }
   ],
   "source": [
    "data.columns"
   ]
  },
  {
   "cell_type": "markdown",
   "metadata": {},
   "source": [
    "Display the index"
   ]
  },
  {
   "cell_type": "code",
   "execution_count": 7,
   "metadata": {},
   "outputs": [
    {
     "data": {
      "text/plain": [
       "RangeIndex(start=0, stop=10000, step=1)"
      ]
     },
     "execution_count": 7,
     "metadata": {},
     "output_type": "execute_result"
    }
   ],
   "source": [
    "data.index"
   ]
  },
  {
   "cell_type": "markdown",
   "metadata": {},
   "source": [
    "See the top rows of the data"
   ]
  },
  {
   "cell_type": "code",
   "execution_count": 8,
   "metadata": {},
   "outputs": [
    {
     "data": {
      "text/html": [
       "<div>\n",
       "<style scoped>\n",
       "    .dataframe tbody tr th:only-of-type {\n",
       "        vertical-align: middle;\n",
       "    }\n",
       "\n",
       "    .dataframe tbody tr th {\n",
       "        vertical-align: top;\n",
       "    }\n",
       "\n",
       "    .dataframe thead th {\n",
       "        text-align: right;\n",
       "    }\n",
       "</style>\n",
       "<table border=\"1\" class=\"dataframe\">\n",
       "  <thead>\n",
       "    <tr style=\"text-align: right;\">\n",
       "      <th></th>\n",
       "      <th>sku</th>\n",
       "      <th>national_inv</th>\n",
       "      <th>lead_time</th>\n",
       "      <th>in_transit_qty</th>\n",
       "      <th>forecast_3_month</th>\n",
       "      <th>forecast_6_month</th>\n",
       "      <th>forecast_9_month</th>\n",
       "      <th>sales_1_month</th>\n",
       "      <th>sales_3_month</th>\n",
       "      <th>sales_6_month</th>\n",
       "      <th>...</th>\n",
       "      <th>pieces_past_due</th>\n",
       "      <th>perf_6_month_avg</th>\n",
       "      <th>perf_12_month_avg</th>\n",
       "      <th>local_bo_qty</th>\n",
       "      <th>deck_risk</th>\n",
       "      <th>oe_constraint</th>\n",
       "      <th>ppap_risk</th>\n",
       "      <th>stop_auto_buy</th>\n",
       "      <th>rev_stop</th>\n",
       "      <th>went_on_backorder</th>\n",
       "    </tr>\n",
       "  </thead>\n",
       "  <tbody>\n",
       "    <tr>\n",
       "      <td>0</td>\n",
       "      <td>1888279</td>\n",
       "      <td>117</td>\n",
       "      <td>NaN</td>\n",
       "      <td>0</td>\n",
       "      <td>0</td>\n",
       "      <td>0</td>\n",
       "      <td>0</td>\n",
       "      <td>0</td>\n",
       "      <td>0</td>\n",
       "      <td>15</td>\n",
       "      <td>...</td>\n",
       "      <td>0</td>\n",
       "      <td>-99.00</td>\n",
       "      <td>-99.00</td>\n",
       "      <td>0</td>\n",
       "      <td>No</td>\n",
       "      <td>No</td>\n",
       "      <td>Yes</td>\n",
       "      <td>Yes</td>\n",
       "      <td>No</td>\n",
       "      <td>No</td>\n",
       "    </tr>\n",
       "    <tr>\n",
       "      <td>1</td>\n",
       "      <td>1870557</td>\n",
       "      <td>7</td>\n",
       "      <td>2.0</td>\n",
       "      <td>0</td>\n",
       "      <td>0</td>\n",
       "      <td>0</td>\n",
       "      <td>0</td>\n",
       "      <td>0</td>\n",
       "      <td>0</td>\n",
       "      <td>0</td>\n",
       "      <td>...</td>\n",
       "      <td>0</td>\n",
       "      <td>0.50</td>\n",
       "      <td>0.28</td>\n",
       "      <td>0</td>\n",
       "      <td>Yes</td>\n",
       "      <td>No</td>\n",
       "      <td>No</td>\n",
       "      <td>Yes</td>\n",
       "      <td>No</td>\n",
       "      <td>No</td>\n",
       "    </tr>\n",
       "    <tr>\n",
       "      <td>2</td>\n",
       "      <td>1475481</td>\n",
       "      <td>258</td>\n",
       "      <td>15.0</td>\n",
       "      <td>10</td>\n",
       "      <td>10</td>\n",
       "      <td>77</td>\n",
       "      <td>184</td>\n",
       "      <td>46</td>\n",
       "      <td>132</td>\n",
       "      <td>256</td>\n",
       "      <td>...</td>\n",
       "      <td>0</td>\n",
       "      <td>0.54</td>\n",
       "      <td>0.70</td>\n",
       "      <td>0</td>\n",
       "      <td>No</td>\n",
       "      <td>No</td>\n",
       "      <td>No</td>\n",
       "      <td>Yes</td>\n",
       "      <td>No</td>\n",
       "      <td>No</td>\n",
       "    </tr>\n",
       "  </tbody>\n",
       "</table>\n",
       "<p>3 rows × 23 columns</p>\n",
       "</div>"
      ],
      "text/plain": [
       "       sku  national_inv  lead_time  in_transit_qty  forecast_3_month  \\\n",
       "0  1888279           117        NaN               0                 0   \n",
       "1  1870557             7        2.0               0                 0   \n",
       "2  1475481           258       15.0              10                10   \n",
       "\n",
       "   forecast_6_month  forecast_9_month  sales_1_month  sales_3_month  \\\n",
       "0                 0                 0              0              0   \n",
       "1                 0                 0              0              0   \n",
       "2                77               184             46            132   \n",
       "\n",
       "   sales_6_month  ...  pieces_past_due  perf_6_month_avg perf_12_month_avg  \\\n",
       "0             15  ...                0            -99.00            -99.00   \n",
       "1              0  ...                0              0.50              0.28   \n",
       "2            256  ...                0              0.54              0.70   \n",
       "\n",
       "   local_bo_qty  deck_risk  oe_constraint  ppap_risk stop_auto_buy rev_stop  \\\n",
       "0             0         No             No        Yes           Yes       No   \n",
       "1             0        Yes             No         No           Yes       No   \n",
       "2             0         No             No         No           Yes       No   \n",
       "\n",
       "  went_on_backorder  \n",
       "0                No  \n",
       "1                No  \n",
       "2                No  \n",
       "\n",
       "[3 rows x 23 columns]"
      ]
     },
     "execution_count": 8,
     "metadata": {},
     "output_type": "execute_result"
    }
   ],
   "source": [
    "data[:3]"
   ]
  },
  {
   "cell_type": "markdown",
   "metadata": {},
   "source": [
    "Descriptive Analysis"
   ]
  },
  {
   "cell_type": "code",
   "execution_count": 9,
   "metadata": {
    "scrolled": true
   },
   "outputs": [
    {
     "data": {
      "text/html": [
       "<div>\n",
       "<style scoped>\n",
       "    .dataframe tbody tr th:only-of-type {\n",
       "        vertical-align: middle;\n",
       "    }\n",
       "\n",
       "    .dataframe tbody tr th {\n",
       "        vertical-align: top;\n",
       "    }\n",
       "\n",
       "    .dataframe thead th {\n",
       "        text-align: right;\n",
       "    }\n",
       "</style>\n",
       "<table border=\"1\" class=\"dataframe\">\n",
       "  <thead>\n",
       "    <tr style=\"text-align: right;\">\n",
       "      <th></th>\n",
       "      <th>sku</th>\n",
       "      <th>national_inv</th>\n",
       "      <th>lead_time</th>\n",
       "      <th>in_transit_qty</th>\n",
       "      <th>forecast_3_month</th>\n",
       "      <th>forecast_6_month</th>\n",
       "      <th>forecast_9_month</th>\n",
       "      <th>sales_1_month</th>\n",
       "      <th>sales_3_month</th>\n",
       "      <th>sales_6_month</th>\n",
       "      <th>...</th>\n",
       "      <th>pieces_past_due</th>\n",
       "      <th>perf_6_month_avg</th>\n",
       "      <th>perf_12_month_avg</th>\n",
       "      <th>local_bo_qty</th>\n",
       "      <th>deck_risk</th>\n",
       "      <th>oe_constraint</th>\n",
       "      <th>ppap_risk</th>\n",
       "      <th>stop_auto_buy</th>\n",
       "      <th>rev_stop</th>\n",
       "      <th>went_on_backorder</th>\n",
       "    </tr>\n",
       "  </thead>\n",
       "  <tbody>\n",
       "    <tr>\n",
       "      <td>count</td>\n",
       "      <td>1.000000e+04</td>\n",
       "      <td>10000.000000</td>\n",
       "      <td>9433.000000</td>\n",
       "      <td>10000.000000</td>\n",
       "      <td>10000.000000</td>\n",
       "      <td>10000.000000</td>\n",
       "      <td>10000.000000</td>\n",
       "      <td>10000.000000</td>\n",
       "      <td>10000.000000</td>\n",
       "      <td>10000.000000</td>\n",
       "      <td>...</td>\n",
       "      <td>10000.000000</td>\n",
       "      <td>10000.000000</td>\n",
       "      <td>10000.000000</td>\n",
       "      <td>10000.000000</td>\n",
       "      <td>10000</td>\n",
       "      <td>10000</td>\n",
       "      <td>10000</td>\n",
       "      <td>10000</td>\n",
       "      <td>10000</td>\n",
       "      <td>10000</td>\n",
       "    </tr>\n",
       "    <tr>\n",
       "      <td>unique</td>\n",
       "      <td>NaN</td>\n",
       "      <td>NaN</td>\n",
       "      <td>NaN</td>\n",
       "      <td>NaN</td>\n",
       "      <td>NaN</td>\n",
       "      <td>NaN</td>\n",
       "      <td>NaN</td>\n",
       "      <td>NaN</td>\n",
       "      <td>NaN</td>\n",
       "      <td>NaN</td>\n",
       "      <td>...</td>\n",
       "      <td>NaN</td>\n",
       "      <td>NaN</td>\n",
       "      <td>NaN</td>\n",
       "      <td>NaN</td>\n",
       "      <td>2</td>\n",
       "      <td>2</td>\n",
       "      <td>2</td>\n",
       "      <td>2</td>\n",
       "      <td>2</td>\n",
       "      <td>2</td>\n",
       "    </tr>\n",
       "    <tr>\n",
       "      <td>top</td>\n",
       "      <td>NaN</td>\n",
       "      <td>NaN</td>\n",
       "      <td>NaN</td>\n",
       "      <td>NaN</td>\n",
       "      <td>NaN</td>\n",
       "      <td>NaN</td>\n",
       "      <td>NaN</td>\n",
       "      <td>NaN</td>\n",
       "      <td>NaN</td>\n",
       "      <td>NaN</td>\n",
       "      <td>...</td>\n",
       "      <td>NaN</td>\n",
       "      <td>NaN</td>\n",
       "      <td>NaN</td>\n",
       "      <td>NaN</td>\n",
       "      <td>No</td>\n",
       "      <td>No</td>\n",
       "      <td>No</td>\n",
       "      <td>Yes</td>\n",
       "      <td>No</td>\n",
       "      <td>No</td>\n",
       "    </tr>\n",
       "    <tr>\n",
       "      <td>freq</td>\n",
       "      <td>NaN</td>\n",
       "      <td>NaN</td>\n",
       "      <td>NaN</td>\n",
       "      <td>NaN</td>\n",
       "      <td>NaN</td>\n",
       "      <td>NaN</td>\n",
       "      <td>NaN</td>\n",
       "      <td>NaN</td>\n",
       "      <td>NaN</td>\n",
       "      <td>NaN</td>\n",
       "      <td>...</td>\n",
       "      <td>NaN</td>\n",
       "      <td>NaN</td>\n",
       "      <td>NaN</td>\n",
       "      <td>NaN</td>\n",
       "      <td>7827</td>\n",
       "      <td>9997</td>\n",
       "      <td>8757</td>\n",
       "      <td>9611</td>\n",
       "      <td>9998</td>\n",
       "      <td>8145</td>\n",
       "    </tr>\n",
       "    <tr>\n",
       "      <td>mean</td>\n",
       "      <td>2.046242e+06</td>\n",
       "      <td>267.388700</td>\n",
       "      <td>7.561645</td>\n",
       "      <td>26.115800</td>\n",
       "      <td>137.912800</td>\n",
       "      <td>248.780900</td>\n",
       "      <td>355.819500</td>\n",
       "      <td>36.492100</td>\n",
       "      <td>108.298300</td>\n",
       "      <td>209.889800</td>\n",
       "      <td>...</td>\n",
       "      <td>1.567400</td>\n",
       "      <td>-6.284197</td>\n",
       "      <td>-5.869804</td>\n",
       "      <td>1.716900</td>\n",
       "      <td>NaN</td>\n",
       "      <td>NaN</td>\n",
       "      <td>NaN</td>\n",
       "      <td>NaN</td>\n",
       "      <td>NaN</td>\n",
       "      <td>NaN</td>\n",
       "    </tr>\n",
       "    <tr>\n",
       "      <td>std</td>\n",
       "      <td>6.590184e+05</td>\n",
       "      <td>3937.266534</td>\n",
       "      <td>6.470560</td>\n",
       "      <td>340.288412</td>\n",
       "      <td>1458.350464</td>\n",
       "      <td>2511.049468</td>\n",
       "      <td>3425.324204</td>\n",
       "      <td>288.688666</td>\n",
       "      <td>801.982281</td>\n",
       "      <td>1515.773389</td>\n",
       "      <td>...</td>\n",
       "      <td>27.482543</td>\n",
       "      <td>25.575629</td>\n",
       "      <td>24.859075</td>\n",
       "      <td>44.798882</td>\n",
       "      <td>NaN</td>\n",
       "      <td>NaN</td>\n",
       "      <td>NaN</td>\n",
       "      <td>NaN</td>\n",
       "      <td>NaN</td>\n",
       "      <td>NaN</td>\n",
       "    </tr>\n",
       "    <tr>\n",
       "      <td>min</td>\n",
       "      <td>1.111652e+06</td>\n",
       "      <td>-2999.000000</td>\n",
       "      <td>0.000000</td>\n",
       "      <td>0.000000</td>\n",
       "      <td>0.000000</td>\n",
       "      <td>0.000000</td>\n",
       "      <td>0.000000</td>\n",
       "      <td>0.000000</td>\n",
       "      <td>0.000000</td>\n",
       "      <td>0.000000</td>\n",
       "      <td>...</td>\n",
       "      <td>0.000000</td>\n",
       "      <td>-99.000000</td>\n",
       "      <td>-99.000000</td>\n",
       "      <td>0.000000</td>\n",
       "      <td>NaN</td>\n",
       "      <td>NaN</td>\n",
       "      <td>NaN</td>\n",
       "      <td>NaN</td>\n",
       "      <td>NaN</td>\n",
       "      <td>NaN</td>\n",
       "    </tr>\n",
       "    <tr>\n",
       "      <td>25%</td>\n",
       "      <td>1.510146e+06</td>\n",
       "      <td>2.000000</td>\n",
       "      <td>4.000000</td>\n",
       "      <td>0.000000</td>\n",
       "      <td>0.000000</td>\n",
       "      <td>0.000000</td>\n",
       "      <td>0.000000</td>\n",
       "      <td>0.000000</td>\n",
       "      <td>0.000000</td>\n",
       "      <td>0.000000</td>\n",
       "      <td>...</td>\n",
       "      <td>0.000000</td>\n",
       "      <td>0.630000</td>\n",
       "      <td>0.640000</td>\n",
       "      <td>0.000000</td>\n",
       "      <td>NaN</td>\n",
       "      <td>NaN</td>\n",
       "      <td>NaN</td>\n",
       "      <td>NaN</td>\n",
       "      <td>NaN</td>\n",
       "      <td>NaN</td>\n",
       "    </tr>\n",
       "    <tr>\n",
       "      <td>50%</td>\n",
       "      <td>1.898042e+06</td>\n",
       "      <td>10.000000</td>\n",
       "      <td>8.000000</td>\n",
       "      <td>0.000000</td>\n",
       "      <td>0.000000</td>\n",
       "      <td>0.000000</td>\n",
       "      <td>0.000000</td>\n",
       "      <td>0.000000</td>\n",
       "      <td>2.000000</td>\n",
       "      <td>4.000000</td>\n",
       "      <td>...</td>\n",
       "      <td>0.000000</td>\n",
       "      <td>0.820000</td>\n",
       "      <td>0.800000</td>\n",
       "      <td>0.000000</td>\n",
       "      <td>NaN</td>\n",
       "      <td>NaN</td>\n",
       "      <td>NaN</td>\n",
       "      <td>NaN</td>\n",
       "      <td>NaN</td>\n",
       "      <td>NaN</td>\n",
       "    </tr>\n",
       "    <tr>\n",
       "      <td>75%</td>\n",
       "      <td>2.811447e+06</td>\n",
       "      <td>55.000000</td>\n",
       "      <td>8.000000</td>\n",
       "      <td>0.000000</td>\n",
       "      <td>12.000000</td>\n",
       "      <td>25.000000</td>\n",
       "      <td>37.000000</td>\n",
       "      <td>5.000000</td>\n",
       "      <td>17.000000</td>\n",
       "      <td>34.000000</td>\n",
       "      <td>...</td>\n",
       "      <td>0.000000</td>\n",
       "      <td>0.960000</td>\n",
       "      <td>0.950000</td>\n",
       "      <td>0.000000</td>\n",
       "      <td>NaN</td>\n",
       "      <td>NaN</td>\n",
       "      <td>NaN</td>\n",
       "      <td>NaN</td>\n",
       "      <td>NaN</td>\n",
       "      <td>NaN</td>\n",
       "    </tr>\n",
       "    <tr>\n",
       "      <td>max</td>\n",
       "      <td>3.284750e+06</td>\n",
       "      <td>364065.000000</td>\n",
       "      <td>52.000000</td>\n",
       "      <td>20047.000000</td>\n",
       "      <td>98548.000000</td>\n",
       "      <td>169720.000000</td>\n",
       "      <td>214848.000000</td>\n",
       "      <td>10698.000000</td>\n",
       "      <td>35076.000000</td>\n",
       "      <td>67129.000000</td>\n",
       "      <td>...</td>\n",
       "      <td>1488.000000</td>\n",
       "      <td>1.000000</td>\n",
       "      <td>1.000000</td>\n",
       "      <td>2999.000000</td>\n",
       "      <td>NaN</td>\n",
       "      <td>NaN</td>\n",
       "      <td>NaN</td>\n",
       "      <td>NaN</td>\n",
       "      <td>NaN</td>\n",
       "      <td>NaN</td>\n",
       "    </tr>\n",
       "  </tbody>\n",
       "</table>\n",
       "<p>11 rows × 23 columns</p>\n",
       "</div>"
      ],
      "text/plain": [
       "                 sku   national_inv    lead_time  in_transit_qty  \\\n",
       "count   1.000000e+04   10000.000000  9433.000000    10000.000000   \n",
       "unique           NaN            NaN          NaN             NaN   \n",
       "top              NaN            NaN          NaN             NaN   \n",
       "freq             NaN            NaN          NaN             NaN   \n",
       "mean    2.046242e+06     267.388700     7.561645       26.115800   \n",
       "std     6.590184e+05    3937.266534     6.470560      340.288412   \n",
       "min     1.111652e+06   -2999.000000     0.000000        0.000000   \n",
       "25%     1.510146e+06       2.000000     4.000000        0.000000   \n",
       "50%     1.898042e+06      10.000000     8.000000        0.000000   \n",
       "75%     2.811447e+06      55.000000     8.000000        0.000000   \n",
       "max     3.284750e+06  364065.000000    52.000000    20047.000000   \n",
       "\n",
       "        forecast_3_month  forecast_6_month  forecast_9_month  sales_1_month  \\\n",
       "count       10000.000000      10000.000000      10000.000000   10000.000000   \n",
       "unique               NaN               NaN               NaN            NaN   \n",
       "top                  NaN               NaN               NaN            NaN   \n",
       "freq                 NaN               NaN               NaN            NaN   \n",
       "mean          137.912800        248.780900        355.819500      36.492100   \n",
       "std          1458.350464       2511.049468       3425.324204     288.688666   \n",
       "min             0.000000          0.000000          0.000000       0.000000   \n",
       "25%             0.000000          0.000000          0.000000       0.000000   \n",
       "50%             0.000000          0.000000          0.000000       0.000000   \n",
       "75%            12.000000         25.000000         37.000000       5.000000   \n",
       "max         98548.000000     169720.000000     214848.000000   10698.000000   \n",
       "\n",
       "        sales_3_month  sales_6_month  ...  pieces_past_due  perf_6_month_avg  \\\n",
       "count    10000.000000   10000.000000  ...     10000.000000      10000.000000   \n",
       "unique            NaN            NaN  ...              NaN               NaN   \n",
       "top               NaN            NaN  ...              NaN               NaN   \n",
       "freq              NaN            NaN  ...              NaN               NaN   \n",
       "mean       108.298300     209.889800  ...         1.567400         -6.284197   \n",
       "std        801.982281    1515.773389  ...        27.482543         25.575629   \n",
       "min          0.000000       0.000000  ...         0.000000        -99.000000   \n",
       "25%          0.000000       0.000000  ...         0.000000          0.630000   \n",
       "50%          2.000000       4.000000  ...         0.000000          0.820000   \n",
       "75%         17.000000      34.000000  ...         0.000000          0.960000   \n",
       "max      35076.000000   67129.000000  ...      1488.000000          1.000000   \n",
       "\n",
       "       perf_12_month_avg  local_bo_qty  deck_risk  oe_constraint  ppap_risk  \\\n",
       "count       10000.000000  10000.000000      10000          10000      10000   \n",
       "unique               NaN           NaN          2              2          2   \n",
       "top                  NaN           NaN         No             No         No   \n",
       "freq                 NaN           NaN       7827           9997       8757   \n",
       "mean           -5.869804      1.716900        NaN            NaN        NaN   \n",
       "std            24.859075     44.798882        NaN            NaN        NaN   \n",
       "min           -99.000000      0.000000        NaN            NaN        NaN   \n",
       "25%             0.640000      0.000000        NaN            NaN        NaN   \n",
       "50%             0.800000      0.000000        NaN            NaN        NaN   \n",
       "75%             0.950000      0.000000        NaN            NaN        NaN   \n",
       "max             1.000000   2999.000000        NaN            NaN        NaN   \n",
       "\n",
       "       stop_auto_buy rev_stop went_on_backorder  \n",
       "count          10000    10000             10000  \n",
       "unique             2        2                 2  \n",
       "top              Yes       No                No  \n",
       "freq            9611     9998              8145  \n",
       "mean             NaN      NaN               NaN  \n",
       "std              NaN      NaN               NaN  \n",
       "min              NaN      NaN               NaN  \n",
       "25%              NaN      NaN               NaN  \n",
       "50%              NaN      NaN               NaN  \n",
       "75%              NaN      NaN               NaN  \n",
       "max              NaN      NaN               NaN  \n",
       "\n",
       "[11 rows x 23 columns]"
      ]
     },
     "execution_count": 9,
     "metadata": {},
     "output_type": "execute_result"
    }
   ],
   "source": [
    "data.describe(include='all')"
   ]
  },
  {
   "cell_type": "markdown",
   "metadata": {},
   "source": [
    "Display data type of each variable"
   ]
  },
  {
   "cell_type": "code",
   "execution_count": 10,
   "metadata": {},
   "outputs": [
    {
     "data": {
      "text/plain": [
       "sku                    int64\n",
       "national_inv           int64\n",
       "lead_time            float64\n",
       "in_transit_qty         int64\n",
       "forecast_3_month       int64\n",
       "forecast_6_month       int64\n",
       "forecast_9_month       int64\n",
       "sales_1_month          int64\n",
       "sales_3_month          int64\n",
       "sales_6_month          int64\n",
       "sales_9_month          int64\n",
       "min_bank               int64\n",
       "potential_issue       object\n",
       "pieces_past_due        int64\n",
       "perf_6_month_avg     float64\n",
       "perf_12_month_avg    float64\n",
       "local_bo_qty           int64\n",
       "deck_risk             object\n",
       "oe_constraint         object\n",
       "ppap_risk             object\n",
       "stop_auto_buy         object\n",
       "rev_stop              object\n",
       "went_on_backorder     object\n",
       "dtype: object"
      ]
     },
     "execution_count": 10,
     "metadata": {},
     "output_type": "execute_result"
    }
   ],
   "source": [
    "data.dtypes"
   ]
  },
  {
   "cell_type": "markdown",
   "metadata": {},
   "source": [
    "### Observations\n",
    "\n",
    "- sku is Categorical but is interpreted as int64 \n",
    "- potential_issue, deck_risk, oe_constraint, ppap_risk, stop_auto_buy, rev_stop, and went_on_backorder are also \n",
    "categorical but is interpreted as object. "
   ]
  },
  {
   "cell_type": "markdown",
   "metadata": {},
   "source": [
    "### Data type conversion\n",
    "\n",
    "Convert potential_issue, deck_risk, oe_constraint, ppap_risk, stop_auto_buy, rev_stop, and went_on_backorder attributes to categorical attributes.\n"
   ]
  },
  {
   "cell_type": "code",
   "execution_count": 11,
   "metadata": {},
   "outputs": [],
   "source": [
    "col = ['sku', 'potential_issue', 'deck_risk', 'oe_constraint', 'ppap_risk', \n",
    "       'stop_auto_buy', 'rev_stop', 'went_on_backorder']\n",
    "\n",
    "data[col] = data[col].astype('category')"
   ]
  },
  {
   "cell_type": "markdown",
   "metadata": {},
   "source": [
    "Display data type of each variable"
   ]
  },
  {
   "cell_type": "code",
   "execution_count": 12,
   "metadata": {},
   "outputs": [
    {
     "data": {
      "text/plain": [
       "sku                  category\n",
       "national_inv            int64\n",
       "lead_time             float64\n",
       "in_transit_qty          int64\n",
       "forecast_3_month        int64\n",
       "forecast_6_month        int64\n",
       "forecast_9_month        int64\n",
       "sales_1_month           int64\n",
       "sales_3_month           int64\n",
       "sales_6_month           int64\n",
       "sales_9_month           int64\n",
       "min_bank                int64\n",
       "potential_issue      category\n",
       "pieces_past_due         int64\n",
       "perf_6_month_avg      float64\n",
       "perf_12_month_avg     float64\n",
       "local_bo_qty            int64\n",
       "deck_risk            category\n",
       "oe_constraint        category\n",
       "ppap_risk            category\n",
       "stop_auto_buy        category\n",
       "rev_stop             category\n",
       "went_on_backorder    category\n",
       "dtype: object"
      ]
     },
     "execution_count": 12,
     "metadata": {},
     "output_type": "execute_result"
    }
   ],
   "source": [
    "data.dtypes"
   ]
  },
  {
   "cell_type": "markdown",
   "metadata": {},
   "source": [
    "### Remove sku attribute if unique"
   ]
  },
  {
   "cell_type": "code",
   "execution_count": 13,
   "metadata": {},
   "outputs": [
    {
     "data": {
      "text/plain": [
       "10000"
      ]
     },
     "execution_count": 13,
     "metadata": {},
     "output_type": "execute_result"
    }
   ],
   "source": [
    "np.size(np.unique(data.sku))"
   ]
  },
  {
   "cell_type": "code",
   "execution_count": 14,
   "metadata": {},
   "outputs": [],
   "source": [
    "data.set_index('sku', drop = True, inplace = True)"
   ]
  },
  {
   "cell_type": "markdown",
   "metadata": {},
   "source": [
    "### Missing Data\n",
    "\n",
    "Missing value analysis and dropping the records with missing values"
   ]
  },
  {
   "cell_type": "code",
   "execution_count": 15,
   "metadata": {},
   "outputs": [
    {
     "data": {
      "text/plain": [
       "national_inv           0\n",
       "lead_time            567\n",
       "in_transit_qty         0\n",
       "forecast_3_month       0\n",
       "forecast_6_month       0\n",
       "forecast_9_month       0\n",
       "sales_1_month          0\n",
       "sales_3_month          0\n",
       "sales_6_month          0\n",
       "sales_9_month          0\n",
       "min_bank               0\n",
       "potential_issue        0\n",
       "pieces_past_due        0\n",
       "perf_6_month_avg       0\n",
       "perf_12_month_avg      0\n",
       "local_bo_qty           0\n",
       "deck_risk              0\n",
       "oe_constraint          0\n",
       "ppap_risk              0\n",
       "stop_auto_buy          0\n",
       "rev_stop               0\n",
       "went_on_backorder      0\n",
       "dtype: int64"
      ]
     },
     "execution_count": 15,
     "metadata": {},
     "output_type": "execute_result"
    }
   ],
   "source": [
    "data.isnull().sum()"
   ]
  },
  {
   "cell_type": "markdown",
   "metadata": {},
   "source": [
    "Since the number of missing values is about 5%."
   ]
  },
  {
   "cell_type": "code",
   "execution_count": 16,
   "metadata": {},
   "outputs": [],
   "source": [
    "data = data.dropna(axis=0)"
   ]
  },
  {
   "cell_type": "markdown",
   "metadata": {},
   "source": [
    "Observing the number of records after missing records removal"
   ]
  },
  {
   "cell_type": "code",
   "execution_count": 17,
   "metadata": {},
   "outputs": [
    {
     "data": {
      "text/plain": [
       "(9433, 22)"
      ]
     },
     "execution_count": 17,
     "metadata": {},
     "output_type": "execute_result"
    }
   ],
   "source": [
    "data.shape"
   ]
  },
  {
   "cell_type": "markdown",
   "metadata": {},
   "source": [
    "### Dummy categorical variables\n",
    "\n",
    "If we have k levels in a category, then we create k-1 dummy variables as the last one would be redundant. So we use the parameter drop_first in pd.get_dummies function that drops the first level in each of the category\n"
   ]
  },
  {
   "cell_type": "code",
   "execution_count": 18,
   "metadata": {},
   "outputs": [],
   "source": [
    "categorical_Attributes = data.select_dtypes(include=['category']).columns"
   ]
  },
  {
   "cell_type": "code",
   "execution_count": 19,
   "metadata": {},
   "outputs": [],
   "source": [
    "data = pd.get_dummies(columns=categorical_Attributes, \n",
    "                      data=data, \n",
    "                      prefix=categorical_Attributes, \n",
    "                      prefix_sep=\"_\",\n",
    "                      drop_first=True)\n",
    "\n"
   ]
  },
  {
   "cell_type": "code",
   "execution_count": 20,
   "metadata": {},
   "outputs": [
    {
     "name": "stdout",
     "output_type": "stream",
     "text": [
      "Index(['national_inv', 'lead_time', 'in_transit_qty', 'forecast_3_month',\n",
      "       'forecast_6_month', 'forecast_9_month', 'sales_1_month',\n",
      "       'sales_3_month', 'sales_6_month', 'sales_9_month', 'min_bank',\n",
      "       'pieces_past_due', 'perf_6_month_avg', 'perf_12_month_avg',\n",
      "       'local_bo_qty', 'potential_issue_Yes', 'deck_risk_Yes',\n",
      "       'oe_constraint_Yes', 'ppap_risk_Yes', 'stop_auto_buy_Yes',\n",
      "       'rev_stop_Yes', 'went_on_backorder_Yes'],\n",
      "      dtype='object') (9433, 22)\n"
     ]
    }
   ],
   "source": [
    "print (data.columns, data.shape)"
   ]
  },
  {
   "cell_type": "markdown",
   "metadata": {},
   "source": [
    "#### Target attribute distribution"
   ]
  },
  {
   "cell_type": "code",
   "execution_count": 21,
   "metadata": {
    "scrolled": true
   },
   "outputs": [
    {
     "data": {
      "text/plain": [
       "0    7632\n",
       "1    1801\n",
       "Name: went_on_backorder_Yes, dtype: int64"
      ]
     },
     "execution_count": 21,
     "metadata": {},
     "output_type": "execute_result"
    }
   ],
   "source": [
    "pd.value_counts(data['went_on_backorder_Yes'])"
   ]
  },
  {
   "cell_type": "markdown",
   "metadata": {},
   "source": [
    "#### Train-Test Split\n",
    "\n",
    "Using sklearn.model_selection.train_test_split\n",
    "\n",
    "    Split arrays or matrices into train and test subsets"
   ]
  },
  {
   "cell_type": "code",
   "execution_count": 22,
   "metadata": {},
   "outputs": [],
   "source": [
    "#Performing train test split on the data\n",
    "X, y = data.loc[:,data.columns!='went_on_backorder_Yes'].values, data.loc[:,'went_on_backorder_Yes'].values\n",
    "\n",
    "X_train, X_test, y_train, y_test = train_test_split(X, y, \n",
    "                                                    test_size = 0.3, random_state = 123, \n",
    "                                                    stratify = data['went_on_backorder_Yes'])\n"
   ]
  },
  {
   "cell_type": "code",
   "execution_count": 23,
   "metadata": {
    "scrolled": true
   },
   "outputs": [
    {
     "name": "stdout",
     "output_type": "stream",
     "text": [
      "0    5342\n",
      "1    1261\n",
      "dtype: int64\n",
      "0    2290\n",
      "1     540\n",
      "dtype: int64\n"
     ]
    }
   ],
   "source": [
    "# To get the distribution in the target in train and test\n",
    "print(pd.value_counts(y_train))\n",
    "print(pd.value_counts(y_test))"
   ]
  },
  {
   "cell_type": "code",
   "execution_count": 24,
   "metadata": {},
   "outputs": [
    {
     "name": "stdout",
     "output_type": "stream",
     "text": [
      "0    80.90262\n",
      "1    19.09738\n",
      "dtype: float64\n",
      "0    80.918728\n",
      "1    19.081272\n",
      "dtype: float64\n"
     ]
    }
   ],
   "source": [
    "print(pd.value_counts(y_train)/y_train.size * 100)\n",
    "print(pd.value_counts(y_test)/y_test.size * 100)"
   ]
  },
  {
   "cell_type": "markdown",
   "metadata": {},
   "source": [
    "### Function to evaluate model performance"
   ]
  },
  {
   "cell_type": "code",
   "execution_count": 25,
   "metadata": {},
   "outputs": [],
   "source": [
    "def evaluate_model(model, hist) :\n",
    "    \n",
    "    train_pred = model.predict_classes(X_train)\n",
    "    test_pred = model.predict_classes(X_test)\n",
    "    \n",
    "    print('_'*10, 'Train performance', '_'*10, '\\n')\n",
    "    print(confusion_matrix(y_train, train_pred), '\\n')\n",
    "    print('Recall : ', recall_score(y_train, train_pred))\n",
    "    print('Precision :', precision_score(y_train, train_pred))\n",
    "    print('Accuracy : ', accuracy_score(y_train, train_pred))\n",
    "    \n",
    "    print('_'*10, 'Test performance', '_'*10, '\\n')\n",
    "    print(confusion_matrix(y_test, test_pred), '\\n')\n",
    "    print('Recall : ', recall_score(y_test, test_pred))\n",
    "    print('Precision :', precision_score(y_test, test_pred))\n",
    "    print('Accuracy : ', accuracy_score(y_test, test_pred))    \n",
    "\n",
    "    print('\\n', '_'*10, 'Bias variance Check', '_'*10, '\\n')\n",
    "    plt.subplot(2,1,1)\n",
    "    plt.plot(hist.history['acc'])\n",
    "    plt.plot(hist.history['val_acc'])\n",
    "    plt.title('Accuracy Plot')\n",
    "    plt.ylabel('Accuracy')\n",
    "    plt.xlabel('Epoch')\n",
    "    plt.legend(['Train', 'Validation'])\n",
    "    plt.show()\n",
    "    plt.subplot(2,1,2)\n",
    "    plt.plot(hist.history['loss'])\n",
    "    plt.plot(hist.history['val_loss'])\n",
    "    plt.title('Loss Function Plot')\n",
    "    plt.ylabel('Loss')\n",
    "    plt.xlabel('Epoch')\n",
    "    plt.legend(['Train', 'Validation'])\n",
    "    plt.show()"
   ]
  },
  {
   "cell_type": "markdown",
   "metadata": {},
   "source": [
    "## MLP with Dropout\n",
    "\n",
    "- 2 Dropout layers"
   ]
  },
  {
   "cell_type": "code",
   "execution_count": 26,
   "metadata": {},
   "outputs": [
    {
     "name": "stdout",
     "output_type": "stream",
     "text": [
      "_________________________________________________________________\n",
      "Layer (type)                 Output Shape              Param #   \n",
      "=================================================================\n",
      "dense_1 (Dense)              (None, 25)                550       \n",
      "_________________________________________________________________\n",
      "dropout_1 (Dropout)          (None, 25)                0         \n",
      "_________________________________________________________________\n",
      "dense_2 (Dense)              (None, 15)                390       \n",
      "_________________________________________________________________\n",
      "dropout_2 (Dropout)          (None, 15)                0         \n",
      "_________________________________________________________________\n",
      "dense_3 (Dense)              (None, 1)                 16        \n",
      "=================================================================\n",
      "Total params: 956\n",
      "Trainable params: 956\n",
      "Non-trainable params: 0\n",
      "_________________________________________________________________\n"
     ]
    }
   ],
   "source": [
    "dropout_model = Sequential()\n",
    "dropout_model.add(Dense(25, input_dim=21, activation='relu', kernel_initializer=\"glorot_normal\"))\n",
    "dropout_model.add(Dropout(0.2))\n",
    "dropout_model.add(Dense(15, activation='relu', kernel_initializer=\"glorot_normal\"))\n",
    "dropout_model.add(Dropout(0.2))\n",
    "dropout_model.add(Dense(1, activation='sigmoid',kernel_initializer=\"glorot_normal\"))\n",
    "\n",
    "dropout_model.summary()"
   ]
  },
  {
   "cell_type": "code",
   "execution_count": 27,
   "metadata": {},
   "outputs": [
    {
     "name": "stdout",
     "output_type": "stream",
     "text": [
      "Train on 5282 samples, validate on 1321 samples\n",
      "Epoch 1/50\n",
      "5282/5282 [==============================] - 1s 100us/step - loss: 1.6179 - acc: 0.6793 - val_loss: 0.6587 - val_acc: 0.8531\n",
      "Epoch 2/50\n",
      "5282/5282 [==============================] - 0s 28us/step - loss: 0.7797 - acc: 0.8048 - val_loss: 0.4912 - val_acc: 0.8138\n",
      "Epoch 3/50\n",
      "5282/5282 [==============================] - 0s 28us/step - loss: 0.6490 - acc: 0.8050 - val_loss: 0.3777 - val_acc: 0.8123\n",
      "Epoch 4/50\n",
      "5282/5282 [==============================] - 0s 27us/step - loss: 0.5385 - acc: 0.8069 - val_loss: 0.3527 - val_acc: 0.8191\n",
      "Epoch 5/50\n",
      "5282/5282 [==============================] - 0s 27us/step - loss: 0.4699 - acc: 0.8105 - val_loss: 0.3130 - val_acc: 0.8176\n",
      "Epoch 6/50\n",
      "5282/5282 [==============================] - 0s 27us/step - loss: 0.4856 - acc: 0.8118 - val_loss: 0.3154 - val_acc: 0.8183\n",
      "Epoch 7/50\n",
      "5282/5282 [==============================] - 0s 30us/step - loss: 0.4175 - acc: 0.8150 - val_loss: 0.3156 - val_acc: 0.8183\n",
      "Epoch 8/50\n",
      "5282/5282 [==============================] - 0s 39us/step - loss: 0.4615 - acc: 0.8082 - val_loss: 0.3094 - val_acc: 0.8176\n",
      "Epoch 9/50\n",
      "5282/5282 [==============================] - 0s 31us/step - loss: 0.4253 - acc: 0.8086 - val_loss: 0.3079 - val_acc: 0.8168\n",
      "Epoch 10/50\n",
      "5282/5282 [==============================] - 0s 29us/step - loss: 0.4176 - acc: 0.8128 - val_loss: 0.3107 - val_acc: 0.8176\n",
      "Epoch 11/50\n",
      "5282/5282 [==============================] - 0s 35us/step - loss: 0.4416 - acc: 0.8129 - val_loss: 0.2966 - val_acc: 0.8168\n",
      "Epoch 12/50\n",
      "5282/5282 [==============================] - 0s 26us/step - loss: 0.4083 - acc: 0.8137 - val_loss: 0.3037 - val_acc: 0.8176\n",
      "Epoch 13/50\n",
      "5282/5282 [==============================] - 0s 27us/step - loss: 0.3858 - acc: 0.8124 - val_loss: 0.3034 - val_acc: 0.8176\n",
      "Epoch 14/50\n",
      "5282/5282 [==============================] - 0s 30us/step - loss: 0.3906 - acc: 0.8128 - val_loss: 0.2965 - val_acc: 0.8153\n",
      "Epoch 15/50\n",
      "5282/5282 [==============================] - 0s 30us/step - loss: 0.3773 - acc: 0.8120 - val_loss: 0.3019 - val_acc: 0.8176\n",
      "Epoch 16/50\n",
      "5282/5282 [==============================] - 0s 28us/step - loss: 0.3657 - acc: 0.8092 - val_loss: 0.3004 - val_acc: 0.8160\n",
      "Epoch 17/50\n",
      "5282/5282 [==============================] - 0s 30us/step - loss: 0.3466 - acc: 0.8215 - val_loss: 0.2987 - val_acc: 0.8864\n",
      "Epoch 18/50\n",
      "5282/5282 [==============================] - 0s 31us/step - loss: 0.3645 - acc: 0.8487 - val_loss: 0.2991 - val_acc: 0.8895\n",
      "Epoch 19/50\n",
      "5282/5282 [==============================] - 0s 27us/step - loss: 0.3621 - acc: 0.8527 - val_loss: 0.2970 - val_acc: 0.8895\n",
      "Epoch 20/50\n",
      "5282/5282 [==============================] - 0s 39us/step - loss: 0.3532 - acc: 0.8484 - val_loss: 0.2936 - val_acc: 0.8857\n",
      "Epoch 21/50\n",
      "5282/5282 [==============================] - 0s 44us/step - loss: 0.3391 - acc: 0.8569 - val_loss: 0.2911 - val_acc: 0.8902\n",
      "Epoch 22/50\n",
      "5282/5282 [==============================] - 0s 41us/step - loss: 0.3398 - acc: 0.8574 - val_loss: 0.2902 - val_acc: 0.8864\n",
      "Epoch 23/50\n",
      "5282/5282 [==============================] - 0s 41us/step - loss: 0.3239 - acc: 0.8586 - val_loss: 0.2880 - val_acc: 0.8857\n",
      "Epoch 24/50\n",
      "5282/5282 [==============================] - 0s 46us/step - loss: 0.3332 - acc: 0.8544 - val_loss: 0.2876 - val_acc: 0.8812\n",
      "Epoch 25/50\n",
      "5282/5282 [==============================] - 0s 36us/step - loss: 0.3403 - acc: 0.8535 - val_loss: 0.2862 - val_acc: 0.8804\n",
      "Epoch 26/50\n",
      "5282/5282 [==============================] - 0s 27us/step - loss: 0.3239 - acc: 0.8661 - val_loss: 0.2788 - val_acc: 0.8940\n",
      "Epoch 27/50\n",
      "5282/5282 [==============================] - 0s 26us/step - loss: 0.3345 - acc: 0.8669 - val_loss: 0.2810 - val_acc: 0.8880\n",
      "Epoch 28/50\n",
      "5282/5282 [==============================] - 0s 27us/step - loss: 0.3358 - acc: 0.8599 - val_loss: 0.2767 - val_acc: 0.8986\n",
      "Epoch 29/50\n",
      "5282/5282 [==============================] - 0s 36us/step - loss: 0.3185 - acc: 0.8694 - val_loss: 0.2778 - val_acc: 0.8925\n",
      "Epoch 30/50\n",
      "5282/5282 [==============================] - 0s 34us/step - loss: 0.3156 - acc: 0.8686 - val_loss: 0.2751 - val_acc: 0.8910\n",
      "Epoch 31/50\n",
      "5282/5282 [==============================] - 0s 28us/step - loss: 0.3313 - acc: 0.8656 - val_loss: 0.2760 - val_acc: 0.8902\n",
      "Epoch 32/50\n",
      "5282/5282 [==============================] - 0s 30us/step - loss: 0.3239 - acc: 0.8629 - val_loss: 0.2805 - val_acc: 0.8789\n",
      "Epoch 33/50\n",
      "5282/5282 [==============================] - 0s 38us/step - loss: 0.3208 - acc: 0.8699 - val_loss: 0.2772 - val_acc: 0.8864\n",
      "Epoch 34/50\n",
      "5282/5282 [==============================] - ETA: 0s - loss: 0.3276 - acc: 0.869 - 0s 38us/step - loss: 0.3273 - acc: 0.8726 - val_loss: 0.2725 - val_acc: 0.8940\n",
      "Epoch 35/50\n",
      "5282/5282 [==============================] - 0s 40us/step - loss: 0.3071 - acc: 0.8728 - val_loss: 0.2744 - val_acc: 0.8849\n",
      "Epoch 36/50\n",
      "5282/5282 [==============================] - 0s 37us/step - loss: 0.3136 - acc: 0.8737 - val_loss: 0.2714 - val_acc: 0.8917\n",
      "Epoch 37/50\n",
      "5282/5282 [==============================] - 0s 31us/step - loss: 0.3087 - acc: 0.8735 - val_loss: 0.2673 - val_acc: 0.8955\n",
      "Epoch 38/50\n",
      "5282/5282 [==============================] - 0s 31us/step - loss: 0.3151 - acc: 0.8735 - val_loss: 0.2663 - val_acc: 0.8887\n",
      "Epoch 39/50\n",
      "5282/5282 [==============================] - 0s 37us/step - loss: 0.3051 - acc: 0.8745 - val_loss: 0.2642 - val_acc: 0.8842\n",
      "Epoch 40/50\n",
      "5282/5282 [==============================] - 0s 32us/step - loss: 0.2976 - acc: 0.8777 - val_loss: 0.2663 - val_acc: 0.8955\n",
      "Epoch 41/50\n",
      "5282/5282 [==============================] - 0s 28us/step - loss: 0.3026 - acc: 0.8783 - val_loss: 0.2658 - val_acc: 0.8955\n",
      "Epoch 42/50\n",
      "5282/5282 [==============================] - 0s 38us/step - loss: 0.3072 - acc: 0.8781 - val_loss: 0.2674 - val_acc: 0.8910\n",
      "Epoch 43/50\n",
      "5282/5282 [==============================] - 0s 30us/step - loss: 0.2957 - acc: 0.8830 - val_loss: 0.2640 - val_acc: 0.8986\n",
      "Epoch 44/50\n",
      "5282/5282 [==============================] - 0s 31us/step - loss: 0.3018 - acc: 0.8786 - val_loss: 0.2641 - val_acc: 0.8910\n",
      "Epoch 45/50\n",
      "5282/5282 [==============================] - 0s 31us/step - loss: 0.3013 - acc: 0.8750 - val_loss: 0.2606 - val_acc: 0.8933\n",
      "Epoch 46/50\n",
      "5282/5282 [==============================] - 0s 37us/step - loss: 0.3053 - acc: 0.8756 - val_loss: 0.2555 - val_acc: 0.8887\n",
      "Epoch 47/50\n",
      "5282/5282 [==============================] - 0s 44us/step - loss: 0.3083 - acc: 0.8802 - val_loss: 0.2616 - val_acc: 0.8970\n",
      "Epoch 48/50\n",
      "5282/5282 [==============================] - 0s 30us/step - loss: 0.3095 - acc: 0.8762 - val_loss: 0.2531 - val_acc: 0.8940\n",
      "Epoch 49/50\n",
      "5282/5282 [==============================] - 0s 29us/step - loss: 0.3070 - acc: 0.8809 - val_loss: 0.2539 - val_acc: 0.8895\n",
      "Epoch 50/50\n",
      "5282/5282 [==============================] - 0s 29us/step - loss: 0.2950 - acc: 0.8792 - val_loss: 0.2582 - val_acc: 0.8887\n"
     ]
    }
   ],
   "source": [
    "dropout_model.compile(loss='binary_crossentropy', optimizer='adam', metrics = ['accuracy'])\n",
    "dropout_model_hist = dropout_model.fit(X_train, y_train, batch_size=64, epochs=50, \n",
    "                                       validation_split=0.2)\n"
   ]
  },
  {
   "cell_type": "code",
   "execution_count": 28,
   "metadata": {},
   "outputs": [
    {
     "name": "stdout",
     "output_type": "stream",
     "text": [
      "__________ Train performance __________ \n",
      "\n",
      "[[4940  402]\n",
      " [ 303  958]] \n",
      "\n",
      "Recall :  0.7597145122918318\n",
      "Precision : 0.7044117647058824\n",
      "Accuracy :  0.8932303498409814\n",
      "__________ Test performance __________ \n",
      "\n",
      "[[2110  180]\n",
      " [ 127  413]] \n",
      "\n",
      "Recall :  0.7648148148148148\n",
      "Precision : 0.6964586846543002\n",
      "Accuracy :  0.8915194346289753\n",
      "\n",
      " __________ Bias variance Check __________ \n",
      "\n"
     ]
    },
    {
     "data": {
      "image/png": "[encoded data removed]",
      "text/plain": [
       "<Figure size 432x288 with 1 Axes>"
      ]
     },
     "metadata": {
      "needs_background": "light"
     },
     "output_type": "display_data"
    },
    {
     "data": {
      "image/png": "[encoded data removed]",
      "text/plain": [
       "<Figure size 432x288 with 1 Axes>"
      ]
     },
     "metadata": {
      "needs_background": "light"
     },
     "output_type": "display_data"
    }
   ],
   "source": [
    "evaluate_model(dropout_model, dropout_model_hist)"
   ]
  },
  {
   "cell_type": "markdown",
   "metadata": {},
   "source": [
    "## MLP with Batch Normalization\n",
    "\n",
    "- 2 Batch Normalization layers"
   ]
  },
  {
   "cell_type": "code",
   "execution_count": 29,
   "metadata": {},
   "outputs": [],
   "source": [
    "bn_model = Sequential()\n",
    "bn_model.add(Dense(25, input_dim=21, activation='relu', kernel_initializer=\"glorot_normal\"))\n",
    "bn_model.add(BatchNormalization())\n",
    "bn_model.add(Dense(15, activation='relu', kernel_initializer=\"glorot_normal\"))\n",
    "bn_model.add(BatchNormalization())\n",
    "bn_model.add(Dense(1, activation='sigmoid',kernel_initializer=\"glorot_normal\"))"
   ]
  },
  {
   "cell_type": "code",
   "execution_count": 30,
   "metadata": {},
   "outputs": [
    {
     "name": "stdout",
     "output_type": "stream",
     "text": [
      "Train on 5282 samples, validate on 1321 samples\n",
      "Epoch 1/50\n",
      "5282/5282 [==============================] - 1s 200us/step - loss: 0.6793 - acc: 0.6583 - val_loss: 0.7204 - val_acc: 0.2854\n",
      "Epoch 2/50\n",
      "5282/5282 [==============================] - 0s 50us/step - loss: 0.5081 - acc: 0.8129 - val_loss: 0.6680 - val_acc: 0.7638\n",
      "Epoch 3/50\n",
      "5282/5282 [==============================] - 0s 48us/step - loss: 0.4290 - acc: 0.8266 - val_loss: 0.5643 - val_acc: 0.8335\n",
      "Epoch 4/50\n",
      "5282/5282 [==============================] - 0s 48us/step - loss: 0.3674 - acc: 0.8451 - val_loss: 0.4845 - val_acc: 0.8168\n",
      "Epoch 5/50\n",
      "5282/5282 [==============================] - 0s 47us/step - loss: 0.3431 - acc: 0.8525 - val_loss: 0.4405 - val_acc: 0.8183\n",
      "Epoch 6/50\n",
      "5282/5282 [==============================] - 0s 50us/step - loss: 0.3249 - acc: 0.8580 - val_loss: 0.4331 - val_acc: 0.8160\n",
      "Epoch 7/50\n",
      "5282/5282 [==============================] - 0s 52us/step - loss: 0.3181 - acc: 0.8563 - val_loss: 0.4241 - val_acc: 0.8153\n",
      "Epoch 8/50\n",
      "5282/5282 [==============================] - 0s 56us/step - loss: 0.3156 - acc: 0.8504 - val_loss: 0.4122 - val_acc: 0.8153\n",
      "Epoch 9/50\n",
      "5282/5282 [==============================] - 0s 57us/step - loss: 0.3020 - acc: 0.8650 - val_loss: 0.4142 - val_acc: 0.8160\n",
      "Epoch 10/50\n",
      "5282/5282 [==============================] - 0s 48us/step - loss: 0.2930 - acc: 0.8707 - val_loss: 0.4144 - val_acc: 0.8160\n",
      "Epoch 11/50\n",
      "5282/5282 [==============================] - 0s 51us/step - loss: 0.2930 - acc: 0.8705 - val_loss: 0.4143 - val_acc: 0.8145\n",
      "Epoch 12/50\n",
      "5282/5282 [==============================] - 0s 45us/step - loss: 0.2865 - acc: 0.8701 - val_loss: 0.4217 - val_acc: 0.8138\n",
      "Epoch 13/50\n",
      "5282/5282 [==============================] - 0s 47us/step - loss: 0.2927 - acc: 0.8684 - val_loss: 0.4196 - val_acc: 0.8153\n",
      "Epoch 14/50\n",
      "5282/5282 [==============================] - 0s 58us/step - loss: 0.2891 - acc: 0.8716 - val_loss: 0.4241 - val_acc: 0.8153\n",
      "Epoch 15/50\n",
      "5282/5282 [==============================] - 0s 49us/step - loss: 0.2882 - acc: 0.8692 - val_loss: 0.4241 - val_acc: 0.8160\n",
      "Epoch 16/50\n",
      "5282/5282 [==============================] - 0s 47us/step - loss: 0.2826 - acc: 0.8732 - val_loss: 0.4272 - val_acc: 0.8160\n",
      "Epoch 17/50\n",
      "5282/5282 [==============================] - 0s 43us/step - loss: 0.2821 - acc: 0.8699 - val_loss: 0.4124 - val_acc: 0.8160\n",
      "Epoch 18/50\n",
      "5282/5282 [==============================] - 0s 42us/step - loss: 0.2765 - acc: 0.8800 - val_loss: 0.4150 - val_acc: 0.8160\n",
      "Epoch 19/50\n",
      "5282/5282 [==============================] - 0s 43us/step - loss: 0.2747 - acc: 0.8821 - val_loss: 0.4270 - val_acc: 0.8153\n",
      "Epoch 20/50\n",
      "5282/5282 [==============================] - 0s 68us/step - loss: 0.2764 - acc: 0.8709 - val_loss: 0.4266 - val_acc: 0.8168\n",
      "Epoch 21/50\n",
      "5282/5282 [==============================] - 0s 62us/step - loss: 0.2793 - acc: 0.8807 - val_loss: 0.4134 - val_acc: 0.8160\n",
      "Epoch 22/50\n",
      "5282/5282 [==============================] - 0s 57us/step - loss: 0.2793 - acc: 0.8768 - val_loss: 0.4050 - val_acc: 0.8153\n",
      "Epoch 23/50\n",
      "5282/5282 [==============================] - 0s 57us/step - loss: 0.2711 - acc: 0.8796 - val_loss: 0.4146 - val_acc: 0.8160\n",
      "Epoch 24/50\n",
      "5282/5282 [==============================] - 0s 60us/step - loss: 0.2663 - acc: 0.8805 - val_loss: 0.4243 - val_acc: 0.8153\n",
      "Epoch 25/50\n",
      "5282/5282 [==============================] - 0s 59us/step - loss: 0.2637 - acc: 0.8841 - val_loss: 0.4365 - val_acc: 0.8160\n",
      "Epoch 26/50\n",
      "5282/5282 [==============================] - 0s 69us/step - loss: 0.2689 - acc: 0.8802 - val_loss: 0.4318 - val_acc: 0.8160\n",
      "Epoch 27/50\n",
      "5282/5282 [==============================] - 0s 63us/step - loss: 0.2665 - acc: 0.8834 - val_loss: 0.4313 - val_acc: 0.8145\n",
      "Epoch 28/50\n",
      "5282/5282 [==============================] - 0s 53us/step - loss: 0.2584 - acc: 0.8917 - val_loss: 0.4345 - val_acc: 0.8153\n",
      "Epoch 29/50\n",
      "5282/5282 [==============================] - 0s 48us/step - loss: 0.2598 - acc: 0.8902 - val_loss: 0.4370 - val_acc: 0.8153\n",
      "Epoch 30/50\n",
      "5282/5282 [==============================] - 0s 43us/step - loss: 0.2626 - acc: 0.8855 - val_loss: 0.4387 - val_acc: 0.8160\n",
      "Epoch 31/50\n",
      "5282/5282 [==============================] - 0s 50us/step - loss: 0.2644 - acc: 0.8885 - val_loss: 0.4369 - val_acc: 0.8160\n",
      "Epoch 32/50\n",
      "5282/5282 [==============================] - 0s 66us/step - loss: 0.2659 - acc: 0.8855 - val_loss: 0.4406 - val_acc: 0.8160\n",
      "Epoch 33/50\n",
      "5282/5282 [==============================] - 0s 62us/step - loss: 0.2533 - acc: 0.8872 - val_loss: 0.4435 - val_acc: 0.8160\n",
      "Epoch 34/50\n",
      "5282/5282 [==============================] - 0s 64us/step - loss: 0.2605 - acc: 0.8891 - val_loss: 0.4497 - val_acc: 0.8145\n",
      "Epoch 35/50\n",
      "5282/5282 [==============================] - 0s 61us/step - loss: 0.2608 - acc: 0.8868 - val_loss: 0.4503 - val_acc: 0.8160\n",
      "Epoch 36/50\n",
      "5282/5282 [==============================] - 0s 62us/step - loss: 0.2604 - acc: 0.8889 - val_loss: 0.4526 - val_acc: 0.8145\n",
      "Epoch 37/50\n",
      "5282/5282 [==============================] - 0s 49us/step - loss: 0.2569 - acc: 0.8881 - val_loss: 0.4502 - val_acc: 0.8153\n",
      "Epoch 38/50\n",
      "5282/5282 [==============================] - 0s 43us/step - loss: 0.2522 - acc: 0.8938 - val_loss: 0.4471 - val_acc: 0.8160\n",
      "Epoch 39/50\n",
      "5282/5282 [==============================] - 0s 53us/step - loss: 0.2615 - acc: 0.8913 - val_loss: 0.4491 - val_acc: 0.8160\n",
      "Epoch 40/50\n",
      "5282/5282 [==============================] - 0s 67us/step - loss: 0.2539 - acc: 0.8887 - val_loss: 0.4588 - val_acc: 0.8160\n",
      "Epoch 41/50\n",
      "5282/5282 [==============================] - 0s 64us/step - loss: 0.2576 - acc: 0.8887 - val_loss: 0.4564 - val_acc: 0.8153\n",
      "Epoch 42/50\n",
      "5282/5282 [==============================] - 0s 48us/step - loss: 0.2506 - acc: 0.8945 - val_loss: 0.4528 - val_acc: 0.8145\n",
      "Epoch 43/50\n",
      "5282/5282 [==============================] - 0s 47us/step - loss: 0.2522 - acc: 0.8921 - val_loss: 0.4448 - val_acc: 0.8138\n",
      "Epoch 44/50\n",
      "5282/5282 [==============================] - 0s 65us/step - loss: 0.2545 - acc: 0.8921 - val_loss: 0.4404 - val_acc: 0.8153\n",
      "Epoch 45/50\n",
      "5282/5282 [==============================] - 0s 50us/step - loss: 0.2527 - acc: 0.8957 - val_loss: 0.4411 - val_acc: 0.8138\n",
      "Epoch 46/50\n",
      "5282/5282 [==============================] - 0s 45us/step - loss: 0.2550 - acc: 0.8928 - val_loss: 0.4211 - val_acc: 0.8145\n",
      "Epoch 47/50\n",
      "5282/5282 [==============================] - 0s 42us/step - loss: 0.2518 - acc: 0.8906 - val_loss: 0.4182 - val_acc: 0.8138\n",
      "Epoch 48/50\n",
      "5282/5282 [==============================] - 0s 42us/step - loss: 0.2505 - acc: 0.8944 - val_loss: 0.4148 - val_acc: 0.8145\n",
      "Epoch 49/50\n",
      "5282/5282 [==============================] - 0s 42us/step - loss: 0.2491 - acc: 0.8981 - val_loss: 0.4057 - val_acc: 0.8130\n",
      "Epoch 50/50\n",
      "5282/5282 [==============================] - 0s 43us/step - loss: 0.2518 - acc: 0.8957 - val_loss: 0.4046 - val_acc: 0.8153\n"
     ]
    }
   ],
   "source": [
    "bn_model.compile(loss='binary_crossentropy', optimizer='adam', metrics = ['accuracy'])\n",
    "bn_model_hist = bn_model.fit(X_train, y_train, batch_size=64, epochs=50, validation_split=0.2)\n"
   ]
  },
  {
   "cell_type": "code",
   "execution_count": 31,
   "metadata": {},
   "outputs": [
    {
     "name": "stdout",
     "output_type": "stream",
     "text": [
      "__________ Train performance __________ \n",
      "\n",
      "[[5340    2]\n",
      " [1258    3]] \n",
      "\n",
      "Recall :  0.0023790642347343376\n",
      "Precision : 0.6\n",
      "Accuracy :  0.8091776465243071\n",
      "__________ Test performance __________ \n",
      "\n",
      "[[2290    0]\n",
      " [ 540    0]] \n",
      "\n",
      "Recall :  0.0\n",
      "Precision : 0.0\n",
      "Accuracy :  0.8091872791519434\n",
      "\n",
      " __________ Bias variance Check __________ \n",
      "\n"
     ]
    },
    {
     "name": "stderr",
     "output_type": "stream",
     "text": [
      "/Users/shreyasi25/anaconda3/lib/python3.6/site-packages/sklearn/metrics/classification.py:1437: UndefinedMetricWarning: Precision is ill-defined and being set to 0.0 due to no predicted samples.\n",
      "  'precision', 'predicted', average, warn_for)\n"
     ]
    },
    {
     "data": {
      "image/png": "[encoded data removed]",
      "text/plain": [
       "<Figure size 432x288 with 1 Axes>"
      ]
     },
     "metadata": {
      "needs_background": "light"
     },
     "output_type": "display_data"
    },
    {
     "data": {
      "image/png": "[encoded data removed]",
      "text/plain": [
       "<Figure size 432x288 with 1 Axes>"
      ]
     },
     "metadata": {
      "needs_background": "light"
     },
     "output_type": "display_data"
    }
   ],
   "source": [
    "evaluate_model(bn_model, bn_model_hist)"
   ]
  },
  {
   "cell_type": "markdown",
   "metadata": {
    "collapsed": true
   },
   "source": [
    "### Reference Links:\n",
    "\n",
    "https://keras.io/"
   ]
  }
 ],
 "metadata": {
  "kernelspec": {
   "display_name": "Python 3",
   "language": "python",
   "name": "python3"
  },
  "language_info": {
   "codemirror_mode": {
    "name": "ipython",
    "version": 3
   },
   "file_extension": ".py",
   "mimetype": "text/x-python",
   "name": "python",
   "nbconvert_exporter": "python",
   "pygments_lexer": "ipython3",
   "version": "3.6.5"
  }
 },
 "nbformat": 4,
 "nbformat_minor": 2
}
